{
 "cells": [
  {
   "cell_type": "code",
   "execution_count": null,
   "metadata": {},
   "outputs": [],
   "source": [
    "import json\n",
    "import os.path as osp\n",
    "import random\n",
    "\n",
    "import matplotlib.pyplot as plt\n",
    "import torch\n",
    "from models.ofa.networks import CompositeSubNet\n",
    "from segmentation_models_pytorch.utils.metrics import IoU, Precision\n",
    "\n",
    "\n",
    "from ofa.utils.common_tools import build_config_from_file\n",
    "from ofa.training.strategies.segmentation import Context\n",
    "from dltools.data_providers.segmentation import SegmentationProvider\n",
    "from ofa.training.strategies.utils.segmentation.visualise import visualise_segmentation\n",
    "from dltools.data_providers import DataProvidersRegistry\n",
    "from ofa.training.strategies import get_strategy_class\n",
    "from ofa.training.strategies.segmentation import SegmentationStrategy, Context"
   ]
  },
  {
   "cell_type": "code",
   "execution_count": null,
   "metadata": {},
   "outputs": [],
   "source": [
    "ROOT = \"/workspace/proj/workspace/ofa/output/segmentation/mbnet/camvid/DYNAMIC-FPN/08.12.23_11.31.31.848253\"\n",
    "config = build_config_from_file(osp.join(ROOT, \"config.yaml\"))\n",
    "\n",
    "ProviderCLS = DataProvidersRegistry.get_provider_by_name(config.common.dataset.type)\n",
    "provider: SegmentationProvider = ProviderCLS(config.common.dataset)\n",
    "dataset = provider.test_dataset\n",
    "print(\"dataset inited!\")\n",
    "\n",
    "CLS = get_strategy_class(config.common.strategy)\n",
    "strategy: SegmentationStrategy = CLS(config.common)\n",
    "strategy.device = torch.device(\"cpu\")\n",
    "print(\"strategy inited!\")\n",
    "\n",
    "model_config_path = osp.join(ROOT, \"result_model_config.json\")\n",
    "with open(model_config_path) as fin:\n",
    "    model_config = json.load(fin)\n",
    "model = CompositeSubNet.build_from_config(model_config)\n",
    "state_path = osp.join(ROOT, \"result_model.pt\")\n",
    "state = torch.load(state_path, map_location=\"cpu\")\n",
    "model.load_state_dict(state)\n",
    "model.eval()\n",
    "print(\"model inited\")"
   ]
  },
  {
   "cell_type": "code",
   "execution_count": null,
   "metadata": {},
   "outputs": [],
   "source": [
    "epoch_metric_dict = strategy.build_metrics_dict()\n",
    "\n",
    "num_samples = 5\n",
    "for _ in range(num_samples):\n",
    "\n",
    "    context: Context = {}\n",
    "    context[\"model\"] = model\n",
    "    i = random.randint(0, len(dataset) - 1)\n",
    "    data = dataset[i]\n",
    "    data[\"image\"].unsqueeze_(0)\n",
    "    data[\"target\"].unsqueeze_(0)\n",
    "    data[\"image_path\"] = [data[\"image_path\"]]\n",
    "    context.update(data)\n",
    "\n",
    "    runtime_metric_dict = strategy.build_metrics_dict()\n",
    "    with torch.no_grad():\n",
    "        strategy.prepare_batch(context)\n",
    "        strategy.compute_output(context)\n",
    "\n",
    "        strategy.update_metric(epoch_metric_dict, context)\n",
    "        strategy.update_metric(runtime_metric_dict, context)\n",
    "        sample_metrics = strategy.get_metric_vals(runtime_metric_dict)\n",
    "        sample_metrics[\"image\"] = data['image_path'][0].split('/')[-1]\n",
    "        f = visualise_segmentation(\n",
    "        context,\n",
    "        strategy.n_classes,\n",
    "        background=strategy.add_background,\n",
    "        indices=[0],\n",
    "        close_figure=False,\n",
    "        )\n",
    "        line = \"\\n\".join([f\"{k}: {v}\" for k, v in sample_metrics.items()])\n",
    "        f.suptitle(line)\n",
    "        plt.show()\n",
    "\n",
    "metrics = strategy.get_metric_vals(epoch_metric_dict)    \n",
    "print(\"result metric\")\n",
    "print(metrics)"
   ]
  }
 ],
 "metadata": {
  "kernelspec": {
   "display_name": "Python 3",
   "language": "python",
   "name": "python3"
  },
  "language_info": {
   "codemirror_mode": {
    "name": "ipython",
    "version": 3
   },
   "file_extension": ".py",
   "mimetype": "text/x-python",
   "name": "python",
   "nbconvert_exporter": "python",
   "pygments_lexer": "ipython3",
   "version": "3.8.10"
  }
 },
 "nbformat": 4,
 "nbformat_minor": 4
}
