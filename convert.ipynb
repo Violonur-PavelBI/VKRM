{
 "cells": [
  {
   "cell_type": "code",
   "execution_count": null,
   "metadata": {},
   "outputs": [],
   "source": [
    "import json\n",
    "import os.path as osp\n",
    "\n",
    "import torch\n",
    "from torch import Tensor\n",
    "from models.ofa.networks import CompositeSubNet\n",
    "\n",
    "from ofa.data_providers import DataProvidersRegistry\n",
    "from ofa.utils.common_tools import build_config_from_file\n",
    "from utils import convert_with_all_tensors\n",
    "from ofa.training.strategies import get_strategy_class\n",
    "\n",
    "torch.backends.cudnn.deterministic = True\n",
    "torch.backends.cudnn.benchmark = False\n",
    "torch.backends.cudnn.enabled = False\n"
   ]
  },
  {
   "cell_type": "code",
   "execution_count": null,
   "metadata": {},
   "outputs": [],
   "source": [
    "ROOT = \"/workspace/proj/output/detection/mbnet/15.08.23_14.43.35.153107\"\n",
    "config = build_config_from_file(osp.join(ROOT, \"config.yaml\"))\n",
    "\n",
    "num_samples = 1\n",
    "config.common.dataset.test_batch_size = num_samples\n",
    "config.common.dataset.train_batch_size = num_samples\n",
    "\n",
    "ProviderCLS = DataProvidersRegistry.get_provider_by_name(config.common.dataset.type)\n",
    "provider = ProviderCLS(config.common.dataset)\n",
    "\n",
    "CLS = get_strategy_class(config.common.strategy)\n",
    "strategy = CLS(config.common)\n",
    "print(\"strategy inited!\")\n",
    "\n",
    "provider.n_worker = 1\n",
    "provider.test_batch_size = num_samples\n",
    "loader = provider.test_loader_builder()\n",
    "print(\"loader inited!\")\n"
   ]
  },
  {
   "cell_type": "code",
   "execution_count": null,
   "metadata": {},
   "outputs": [],
   "source": [
    "# роллим хороший таргет\n",
    "itr = iter(loader)"
   ]
  },
  {
   "cell_type": "code",
   "execution_count": null,
   "metadata": {},
   "outputs": [],
   "source": [
    "# Этим выводом проверям, что на картинке есть объекты и желательно два класса,\n",
    "# после идём дальше\n",
    "data = next(itr)\n",
    "\n",
    "data['target']"
   ]
  },
  {
   "cell_type": "code",
   "execution_count": null,
   "metadata": {},
   "outputs": [],
   "source": [
    "debug = False  # 123 tensor use\n",
    "# Эти два флага нужны были для RoboDeus, теперь теоретически от них можно отказаться\n",
    "fp16 = False\n",
    "cuda = False or fp16\n",
    "\n",
    "pat = f\"{ROOT}/convert\"\n",
    "\n",
    "model_config_path = osp.join(ROOT, \"result_model_config.json\")\n",
    "with open(model_config_path) as fin:\n",
    "    model_config = json.load(fin)\n",
    "model = CompositeSubNet.build_from_config(model_config)\n",
    "state_path = osp.join(ROOT, \"result_model.pt\")\n",
    "state = torch.load(state_path, map_location=\"cpu\")\n",
    "model.load_state_dict(state)\n",
    "model.eval()\n",
    "\n",
    "print(\"model inited\")\n",
    "\n",
    "image = data[\"image\"]\n",
    "\n",
    "i = 0\n",
    "if debug:\n",
    "    i = 123\n",
    "    image = torch.ones_like(image)\n",
    "    image[:, 1] *= 2\n",
    "    image[:, 2] *= 3\n",
    "\n",
    "if cuda:\n",
    "    strategy.device = torch.device(\"cuda\")\n",
    "    model.cuda()\n",
    "    image = image.cuda()\n",
    "    pat += \"_cuda\"\n",
    "else:\n",
    "    strategy.device = torch.device(\"cpu\")\n",
    "\n",
    "if fp16:\n",
    "    assert cuda\n",
    "    image = image.half()\n",
    "    pat += \"_fp16\"\n",
    "    model.half()\n"
   ]
  },
  {
   "cell_type": "code",
   "execution_count": null,
   "metadata": {},
   "outputs": [],
   "source": [
    "from contextlib import contextmanager\n",
    "from models.ofa.heads.detection.yolo_v4 import PostprocessMode, YoloV4DetectionHead\n",
    "from models.ofa.heads.detection.yolo_v4.postprocess import yolo_postprocessing_last\n",
    "\n",
    "@contextmanager\n",
    "def specific(model:CompositeSubNet):\n",
    "    if isinstance(model.head, YoloV4DetectionHead):\n",
    "        model.head.postprocess = PostprocessMode.PLATFORM\n",
    "    try:\n",
    "        yield\n",
    "    finally:\n",
    "        if isinstance(model.head, YoloV4DetectionHead):\n",
    "            model.head.postprocess = PostprocessMode.NMS\n"
   ]
  },
  {
   "cell_type": "code",
   "execution_count": null,
   "metadata": {},
   "outputs": [],
   "source": [
    "with specific(model):\n",
    "    convert_with_all_tensors(model, image, pat, cuda=cuda, fp16=fp16, check=False,preservation_of_intermediate_tensor=False)"
   ]
  },
  {
   "cell_type": "markdown",
   "metadata": {},
   "source": [
    " # Detection stuff\n",
    "\n",
    " Руками проверяется сходимость с референсом.\n",
    " TODO: REFACTOR/DELETE"
   ]
  },
  {
   "cell_type": "code",
   "execution_count": null,
   "metadata": {},
   "outputs": [],
   "source": [
    "# Подготовка аргуметнов\n",
    "head_config = config.common.supernet_config.head\n",
    "conf = head_config.conf_thresholds\n",
    "n_classes = head_config.n_classes\n",
    "classes = provider.class_names\n",
    "anchors = head_config.anchors  #  исходные анкеры из конфига\n",
    "anchors_num = [len(x) for x in head_config.anchors]\n",
    "imagesize = head_config.image_size\n",
    "nms_iou_threshold = head_config.nms_iou_threshold\n",
    "nms_top_k = head_config.nms_top_k\n",
    "\n",
    "plat_inputs = [\n",
    "    \"\",\n",
    "]\n",
    "plat_output = \"yolo_postprocessing\"\n",
    "\n",
    "conf_thresholds = [conf for c in range(n_classes)]\n",
    "classmap = {k: v for k, v in enumerate(classes)}\n",
    "\n",
    "# Получение выходов моделей\n",
    "head: YoloV4DetectionHead = model.head\n",
    "plat_anchors = head.yolo_layer.prepare_anchors()\n",
    "with torch.no_grad():\n",
    "    # Исходный форвард\n",
    "    head.postprocess = PostprocessMode.NMS\n",
    "    out_with_nms: Tensor = model(image)[1]\n",
    "\n",
    "    # Выход до NMS\n",
    "    head.postprocess = PostprocessMode.DECODE\n",
    "    out_without_nms = model(image)[1]\n",
    "\n",
    "    head.postprocess = PostprocessMode.NONE\n",
    "    out_to_plat = model(image)\n",
    "    qwe = []\n",
    "    for i in range(head.levels):\n",
    "        sigmoid = head.sigmoids[i]\n",
    "        x = out_to_plat[i]\n",
    "        x = sigmoid(x)\n",
    "        qwe.append(x)\n",
    "        \n",
    "\n",
    "    last_out = yolo_postprocessing_last(\n",
    "        qwe, plat_anchors, \n",
    "        conf_thresholds,\n",
    "        imagesize[1], imagesize[0]\n",
    "    )\n",
    "\n",
    "torch.allclose(last_out, out_without_nms[0])"
   ]
  }
 ],
 "metadata": {
  "kernelspec": {
   "display_name": "Python 3",
   "language": "python",
   "name": "python3"
  },
  "language_info": {
   "codemirror_mode": {
    "name": "ipython",
    "version": 3
   },
   "file_extension": ".py",
   "mimetype": "text/x-python",
   "name": "python",
   "nbconvert_exporter": "python",
   "pygments_lexer": "ipython3",
   "version": "3.8.10"
  },
  "orig_nbformat": 4
 },
 "nbformat": 4,
 "nbformat_minor": 2
}
